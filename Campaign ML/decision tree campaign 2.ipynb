{
 "cells": [
  {
   "cell_type": "code",
   "execution_count": 1,
   "id": "10a72202",
   "metadata": {},
   "outputs": [],
   "source": [
    "import pandas as pd\n",
    "import numpy as np\n",
    "from matplotlib import pyplot as plt\n",
    "import seaborn as sn\n",
    "from sklearn import tree\n",
    "from sklearn.model_selection import train_test_split\n",
    "from sklearn.model_selection import cross_val_score\n",
    "from sklearn.metrics import confusion_matrix\n",
    "from sklearn.metrics import ConfusionMatrixDisplay"
   ]
  },
  {
   "cell_type": "code",
   "execution_count": 2,
   "id": "6e3e5ace",
   "metadata": {},
   "outputs": [
    {
     "data": {
      "text/html": [
       "<div>\n",
       "<style scoped>\n",
       "    .dataframe tbody tr th:only-of-type {\n",
       "        vertical-align: middle;\n",
       "    }\n",
       "\n",
       "    .dataframe tbody tr th {\n",
       "        vertical-align: top;\n",
       "    }\n",
       "\n",
       "    .dataframe thead th {\n",
       "        text-align: right;\n",
       "    }\n",
       "</style>\n",
       "<table border=\"1\" class=\"dataframe\">\n",
       "  <thead>\n",
       "    <tr style=\"text-align: right;\">\n",
       "      <th></th>\n",
       "      <th>Age</th>\n",
       "      <th>Age_Group</th>\n",
       "      <th>Education</th>\n",
       "      <th>High_Education</th>\n",
       "      <th>Marital_Status</th>\n",
       "      <th>Relationship</th>\n",
       "      <th>Income</th>\n",
       "      <th>Income_Group</th>\n",
       "      <th>Kidhome</th>\n",
       "      <th>Teenhome</th>\n",
       "      <th>...</th>\n",
       "      <th>NumStorePurchases</th>\n",
       "      <th>Total_NumPurchases</th>\n",
       "      <th>NumWebVisitsMonth</th>\n",
       "      <th>AcceptedCmp1</th>\n",
       "      <th>AcceptedCmp2</th>\n",
       "      <th>AcceptedCmp3</th>\n",
       "      <th>AcceptedCmp4</th>\n",
       "      <th>AcceptedCmp5</th>\n",
       "      <th>Response</th>\n",
       "      <th>Complain</th>\n",
       "    </tr>\n",
       "    <tr>\n",
       "      <th>ID</th>\n",
       "      <th></th>\n",
       "      <th></th>\n",
       "      <th></th>\n",
       "      <th></th>\n",
       "      <th></th>\n",
       "      <th></th>\n",
       "      <th></th>\n",
       "      <th></th>\n",
       "      <th></th>\n",
       "      <th></th>\n",
       "      <th></th>\n",
       "      <th></th>\n",
       "      <th></th>\n",
       "      <th></th>\n",
       "      <th></th>\n",
       "      <th></th>\n",
       "      <th></th>\n",
       "      <th></th>\n",
       "      <th></th>\n",
       "      <th></th>\n",
       "      <th></th>\n",
       "    </tr>\n",
       "  </thead>\n",
       "  <tbody>\n",
       "    <tr>\n",
       "      <th>1173</th>\n",
       "      <td>75</td>\n",
       "      <td>70-80</td>\n",
       "      <td>Master</td>\n",
       "      <td>1</td>\n",
       "      <td>Together</td>\n",
       "      <td>1</td>\n",
       "      <td>77632.0</td>\n",
       "      <td>75000 - 79000</td>\n",
       "      <td>0</td>\n",
       "      <td>0</td>\n",
       "      <td>...</td>\n",
       "      <td>6</td>\n",
       "      <td>25</td>\n",
       "      <td>2</td>\n",
       "      <td>0</td>\n",
       "      <td>0</td>\n",
       "      <td>0</td>\n",
       "      <td>1</td>\n",
       "      <td>1</td>\n",
       "      <td>1</td>\n",
       "      <td>0</td>\n",
       "    </tr>\n",
       "    <tr>\n",
       "      <th>6036</th>\n",
       "      <td>63</td>\n",
       "      <td>60-70</td>\n",
       "      <td>Master</td>\n",
       "      <td>1</td>\n",
       "      <td>Together</td>\n",
       "      <td>1</td>\n",
       "      <td>89120.0</td>\n",
       "      <td>87000 - 91000</td>\n",
       "      <td>0</td>\n",
       "      <td>0</td>\n",
       "      <td>...</td>\n",
       "      <td>7</td>\n",
       "      <td>18</td>\n",
       "      <td>1</td>\n",
       "      <td>0</td>\n",
       "      <td>0</td>\n",
       "      <td>0</td>\n",
       "      <td>0</td>\n",
       "      <td>1</td>\n",
       "      <td>0</td>\n",
       "      <td>0</td>\n",
       "    </tr>\n",
       "    <tr>\n",
       "      <th>10140</th>\n",
       "      <td>39</td>\n",
       "      <td>30-40</td>\n",
       "      <td>PhD</td>\n",
       "      <td>1</td>\n",
       "      <td>Together</td>\n",
       "      <td>1</td>\n",
       "      <td>70123.0</td>\n",
       "      <td>67000 - 71000</td>\n",
       "      <td>0</td>\n",
       "      <td>0</td>\n",
       "      <td>...</td>\n",
       "      <td>4</td>\n",
       "      <td>21</td>\n",
       "      <td>3</td>\n",
       "      <td>0</td>\n",
       "      <td>1</td>\n",
       "      <td>0</td>\n",
       "      <td>1</td>\n",
       "      <td>0</td>\n",
       "      <td>0</td>\n",
       "      <td>0</td>\n",
       "    </tr>\n",
       "    <tr>\n",
       "      <th>5386</th>\n",
       "      <td>69</td>\n",
       "      <td>60-70</td>\n",
       "      <td>Graduation</td>\n",
       "      <td>0</td>\n",
       "      <td>Together</td>\n",
       "      <td>1</td>\n",
       "      <td>94384.0</td>\n",
       "      <td>91000 - 95000</td>\n",
       "      <td>0</td>\n",
       "      <td>0</td>\n",
       "      <td>...</td>\n",
       "      <td>5</td>\n",
       "      <td>43</td>\n",
       "      <td>2</td>\n",
       "      <td>1</td>\n",
       "      <td>0</td>\n",
       "      <td>0</td>\n",
       "      <td>1</td>\n",
       "      <td>1</td>\n",
       "      <td>1</td>\n",
       "      <td>0</td>\n",
       "    </tr>\n",
       "    <tr>\n",
       "      <th>5831</th>\n",
       "      <td>55</td>\n",
       "      <td>50-60</td>\n",
       "      <td>Graduation</td>\n",
       "      <td>0</td>\n",
       "      <td>Married</td>\n",
       "      <td>1</td>\n",
       "      <td>77870.0</td>\n",
       "      <td>75000 - 79000</td>\n",
       "      <td>0</td>\n",
       "      <td>1</td>\n",
       "      <td>...</td>\n",
       "      <td>5</td>\n",
       "      <td>22</td>\n",
       "      <td>8</td>\n",
       "      <td>1</td>\n",
       "      <td>0</td>\n",
       "      <td>0</td>\n",
       "      <td>1</td>\n",
       "      <td>0</td>\n",
       "      <td>1</td>\n",
       "      <td>0</td>\n",
       "    </tr>\n",
       "  </tbody>\n",
       "</table>\n",
       "<p>5 rows × 34 columns</p>\n",
       "</div>"
      ],
      "text/plain": [
       "       Age Age_Group   Education  High_Education Marital_Status  Relationship  \\\n",
       "ID                                                                              \n",
       "1173    75     70-80      Master               1       Together             1   \n",
       "6036    63     60-70      Master               1       Together             1   \n",
       "10140   39     30-40         PhD               1       Together             1   \n",
       "5386    69     60-70  Graduation               0       Together             1   \n",
       "5831    55     50-60  Graduation               0        Married             1   \n",
       "\n",
       "        Income   Income_Group  Kidhome  Teenhome  ...  NumStorePurchases  \\\n",
       "ID                                                ...                      \n",
       "1173   77632.0  75000 - 79000        0         0  ...                  6   \n",
       "6036   89120.0  87000 - 91000        0         0  ...                  7   \n",
       "10140  70123.0  67000 - 71000        0         0  ...                  4   \n",
       "5386   94384.0  91000 - 95000        0         0  ...                  5   \n",
       "5831   77870.0  75000 - 79000        0         1  ...                  5   \n",
       "\n",
       "       Total_NumPurchases NumWebVisitsMonth  AcceptedCmp1  AcceptedCmp2  \\\n",
       "ID                                                                        \n",
       "1173                   25                 2             0             0   \n",
       "6036                   18                 1             0             0   \n",
       "10140                  21                 3             0             1   \n",
       "5386                   43                 2             1             0   \n",
       "5831                   22                 8             1             0   \n",
       "\n",
       "       AcceptedCmp3  AcceptedCmp4  AcceptedCmp5  Response  Complain  \n",
       "ID                                                                   \n",
       "1173              0             1             1         1         0  \n",
       "6036              0             0             1         0         0  \n",
       "10140             0             1             0         0         0  \n",
       "5386              0             1             1         1         0  \n",
       "5831              0             1             0         1         0  \n",
       "\n",
       "[5 rows x 34 columns]"
      ]
     },
     "execution_count": 2,
     "metadata": {},
     "output_type": "execute_result"
    }
   ],
   "source": [
    "df = pd.read_csv('md2.csv', index_col='ID')\n",
    "df.head()"
   ]
  },
  {
   "cell_type": "code",
   "execution_count": 3,
   "id": "be44353f",
   "metadata": {},
   "outputs": [
    {
     "data": {
      "text/html": [
       "<div>\n",
       "<style scoped>\n",
       "    .dataframe tbody tr th:only-of-type {\n",
       "        vertical-align: middle;\n",
       "    }\n",
       "\n",
       "    .dataframe tbody tr th {\n",
       "        vertical-align: top;\n",
       "    }\n",
       "\n",
       "    .dataframe thead th {\n",
       "        text-align: right;\n",
       "    }\n",
       "</style>\n",
       "<table border=\"1\" class=\"dataframe\">\n",
       "  <thead>\n",
       "    <tr style=\"text-align: right;\">\n",
       "      <th></th>\n",
       "      <th>Age</th>\n",
       "      <th>Education</th>\n",
       "      <th>Marital_Status</th>\n",
       "      <th>Income</th>\n",
       "      <th>Kidhome</th>\n",
       "      <th>Teenhome</th>\n",
       "      <th>AcceptedCmp2</th>\n",
       "    </tr>\n",
       "    <tr>\n",
       "      <th>ID</th>\n",
       "      <th></th>\n",
       "      <th></th>\n",
       "      <th></th>\n",
       "      <th></th>\n",
       "      <th></th>\n",
       "      <th></th>\n",
       "      <th></th>\n",
       "    </tr>\n",
       "  </thead>\n",
       "  <tbody>\n",
       "    <tr>\n",
       "      <th>1173</th>\n",
       "      <td>75</td>\n",
       "      <td>Master</td>\n",
       "      <td>Together</td>\n",
       "      <td>77632.0</td>\n",
       "      <td>0</td>\n",
       "      <td>0</td>\n",
       "      <td>0</td>\n",
       "    </tr>\n",
       "    <tr>\n",
       "      <th>6036</th>\n",
       "      <td>63</td>\n",
       "      <td>Master</td>\n",
       "      <td>Together</td>\n",
       "      <td>89120.0</td>\n",
       "      <td>0</td>\n",
       "      <td>0</td>\n",
       "      <td>0</td>\n",
       "    </tr>\n",
       "    <tr>\n",
       "      <th>10140</th>\n",
       "      <td>39</td>\n",
       "      <td>PhD</td>\n",
       "      <td>Together</td>\n",
       "      <td>70123.0</td>\n",
       "      <td>0</td>\n",
       "      <td>0</td>\n",
       "      <td>1</td>\n",
       "    </tr>\n",
       "    <tr>\n",
       "      <th>5386</th>\n",
       "      <td>69</td>\n",
       "      <td>Graduation</td>\n",
       "      <td>Together</td>\n",
       "      <td>94384.0</td>\n",
       "      <td>0</td>\n",
       "      <td>0</td>\n",
       "      <td>0</td>\n",
       "    </tr>\n",
       "    <tr>\n",
       "      <th>5831</th>\n",
       "      <td>55</td>\n",
       "      <td>Graduation</td>\n",
       "      <td>Married</td>\n",
       "      <td>77870.0</td>\n",
       "      <td>0</td>\n",
       "      <td>1</td>\n",
       "      <td>0</td>\n",
       "    </tr>\n",
       "  </tbody>\n",
       "</table>\n",
       "</div>"
      ],
      "text/plain": [
       "       Age   Education Marital_Status   Income  Kidhome  Teenhome  \\\n",
       "ID                                                                  \n",
       "1173    75      Master       Together  77632.0        0         0   \n",
       "6036    63      Master       Together  89120.0        0         0   \n",
       "10140   39         PhD       Together  70123.0        0         0   \n",
       "5386    69  Graduation       Together  94384.0        0         0   \n",
       "5831    55  Graduation        Married  77870.0        0         1   \n",
       "\n",
       "       AcceptedCmp2  \n",
       "ID                   \n",
       "1173              0  \n",
       "6036              0  \n",
       "10140             1  \n",
       "5386              0  \n",
       "5831              0  "
      ]
     },
     "execution_count": 3,
     "metadata": {},
     "output_type": "execute_result"
    }
   ],
   "source": [
    "df_c2 = df[['Age', 'Education', 'Marital_Status','Income', 'Kidhome', 'Teenhome', 'AcceptedCmp2']]\n",
    "df_c2.head()"
   ]
  },
  {
   "cell_type": "code",
   "execution_count": 4,
   "id": "499ef716",
   "metadata": {},
   "outputs": [],
   "source": [
    "X = pd.get_dummies(df_c2.drop('AcceptedCmp2', axis=1))\n",
    "y = df_c2['AcceptedCmp2']"
   ]
  },
  {
   "cell_type": "code",
   "execution_count": 5,
   "id": "4663f243",
   "metadata": {},
   "outputs": [],
   "source": [
    "X_train, X_test, y_train, y_test = train_test_split(X, y, random_state=42)"
   ]
  },
  {
   "cell_type": "code",
   "execution_count": 6,
   "id": "7ffe21d0",
   "metadata": {},
   "outputs": [
    {
     "data": {
      "text/plain": [
       "DecisionTreeClassifier()"
      ]
     },
     "execution_count": 6,
     "metadata": {},
     "output_type": "execute_result"
    }
   ],
   "source": [
    "model = tree.DecisionTreeClassifier()\n",
    "model.fit(X_train, y_train)"
   ]
  },
  {
   "cell_type": "code",
   "execution_count": 7,
   "id": "aa1b250f",
   "metadata": {},
   "outputs": [
    {
     "data": {
      "text/plain": [
       "Index(['Age', 'Income', 'Kidhome', 'Teenhome', 'Education_2n Cycle',\n",
       "       'Education_Basic', 'Education_Graduation', 'Education_Master',\n",
       "       'Education_PhD', 'Marital_Status_Absurd', 'Marital_Status_Alone',\n",
       "       'Marital_Status_Divorced', 'Marital_Status_Married',\n",
       "       'Marital_Status_Single', 'Marital_Status_Together',\n",
       "       'Marital_Status_Widow', 'Marital_Status_YOLO'],\n",
       "      dtype='object')"
      ]
     },
     "execution_count": 7,
     "metadata": {},
     "output_type": "execute_result"
    }
   ],
   "source": [
    "feature_names = X.columns\n",
    "feature_names"
   ]
  },
  {
   "cell_type": "code",
   "execution_count": null,
   "id": "eed1bae2",
   "metadata": {},
   "outputs": [
    {
     "name": "stdout",
     "output_type": "stream",
     "text": [
      "The history saving thread hit an unexpected error (OperationalError('database is locked')).History will not be written to the database.\n"
     ]
    }
   ],
   "source": [
    "fig = plt.figure(figsize=(25,20))\n",
    "_ = tree.plot_tree(model, \n",
    "                   feature_names=feature_names, \n",
    "                   class_names=['0','1'], \n",
    "                   filled=True, \n",
    "                   fontsize=12)"
   ]
  },
  {
   "cell_type": "code",
   "execution_count": null,
   "id": "c077c8ae",
   "metadata": {},
   "outputs": [],
   "source": [
    "ConfusionMatrixDisplay.from_estimator(model, X_test, y_test)"
   ]
  },
  {
   "cell_type": "code",
   "execution_count": null,
   "id": "1a5ec310",
   "metadata": {},
   "outputs": [],
   "source": [
    "print(\"Model Accuracy: %.3f%%\" % (model.score(X_test, y_test)*100.0))"
   ]
  },
  {
   "cell_type": "code",
   "execution_count": null,
   "id": "aacff94a",
   "metadata": {},
   "outputs": [],
   "source": [
    "path =  model.cost_complexity_pruning_path(X_train, y_train)\n",
    "ccp_alphas = path.ccp_alphas\n",
    "ccp_alphas = ccp_alphas[:-1]\n",
    "\n",
    "models = []\n",
    "\n",
    "for ccp_alpha in ccp_alphas:\n",
    "    model = tree.DecisionTreeClassifier(ccp_alpha=ccp_alpha)\n",
    "    model.fit(X_train, y_train)\n",
    "    models.append(model)"
   ]
  },
  {
   "cell_type": "code",
   "execution_count": null,
   "id": "311a8291",
   "metadata": {},
   "outputs": [],
   "source": [
    "train_scores = [model.score(X_train, y_train) for model in models]\n",
    "test_scores = [model.score(X_test, y_test) for model in models]\n",
    "\n",
    "fig, ax = plt.subplots()\n",
    "ax.set_xlabel(\"alpha\")\n",
    "ax.set_ylabel(\"accuracy\")\n",
    "ax.plot (ccp_alphas, train_scores, marker='o', label=\"train\", drawstyle=\"steps-post\")\n",
    "ax.plot (ccp_alphas, test_scores, marker='o', label=\"test\", drawstyle=\"steps-post\")\n",
    "ax.legend()\n",
    "plt.show()"
   ]
  },
  {
   "cell_type": "code",
   "execution_count": null,
   "id": "6aa6d4db",
   "metadata": {},
   "outputs": [],
   "source": [
    "alpah_loop_values = []\n",
    "\n",
    "for ccp_alpha in ccp_alphas:\n",
    "    model = tree.DecisionTreeClassifier(random_state=0, ccp_alpha=ccp_alpha)\n",
    "    scores =  cross_val_score(model, X_train, y_train, cv=5)\n",
    "    alpah_loop_values.append([ccp_alpha, np.mean(scores), np.std(scores)])\n",
    "    \n",
    "alpah_results = pd.DataFrame(alpah_loop_values, columns=['alpah', 'mean_accuracy', 'std'])\n",
    "\n",
    "alpah_results.plot(x='alpah',\n",
    "                  y='mean_accuracy',\n",
    "                  yerr='std',\n",
    "                  marker='o',\n",
    "                  linestyle=\"--\")"
   ]
  },
  {
   "cell_type": "code",
   "execution_count": null,
   "id": "477f3180",
   "metadata": {},
   "outputs": [],
   "source": [
    "ideal_alpah = alpah_results[alpah_results['alpah'] > 0.0008]['alpah']\n",
    "ideal_alpah"
   ]
  },
  {
   "cell_type": "code",
   "execution_count": null,
   "id": "825d6cec",
   "metadata": {},
   "outputs": [],
   "source": [
    "ideal_alpah = float(ideal_alpah)\n",
    "ideal_alpah"
   ]
  },
  {
   "cell_type": "code",
   "execution_count": null,
   "id": "8b39d676",
   "metadata": {},
   "outputs": [],
   "source": [
    "model_pruned = tree.DecisionTreeClassifier(ccp_alpha=ideal_alpah)\n",
    "model_pruned.fit(X_train, y_train)"
   ]
  },
  {
   "cell_type": "code",
   "execution_count": null,
   "id": "f73fb1ad",
   "metadata": {},
   "outputs": [],
   "source": [
    "fig = plt.figure(figsize=(25,20))\n",
    "_ = tree.plot_tree(model_pruned, \n",
    "                   feature_names=feature_names, \n",
    "                   class_names=['0','1'], \n",
    "                   filled=True, \n",
    "                   fontsize=12)"
   ]
  },
  {
   "cell_type": "code",
   "execution_count": null,
   "id": "d860acb1",
   "metadata": {},
   "outputs": [],
   "source": [
    "ConfusionMatrixDisplay.from_estimator(model_pruned, X_test, y_test)"
   ]
  },
  {
   "cell_type": "code",
   "execution_count": null,
   "id": "96038e3a",
   "metadata": {},
   "outputs": [],
   "source": [
    "print(\"Model Accuracy: %.3f%%\" % (model_pruned.score(X_test, y_test)*100.0))"
   ]
  },
  {
   "cell_type": "code",
   "execution_count": null,
   "id": "505ed5fc",
   "metadata": {},
   "outputs": [],
   "source": [
    "model_pruned.feature_importances_"
   ]
  },
  {
   "cell_type": "code",
   "execution_count": null,
   "id": "4bd4bceb",
   "metadata": {},
   "outputs": [],
   "source": [
    "feature_importances = pd.DataFrame(model_pruned.feature_importances_, index=feature_names)\n",
    "feature_importances.plot(kind='barh')"
   ]
  }
 ],
 "metadata": {
  "kernelspec": {
   "display_name": "Python 3 (ipykernel)",
   "language": "python",
   "name": "python3"
  },
  "language_info": {
   "codemirror_mode": {
    "name": "ipython",
    "version": 3
   },
   "file_extension": ".py",
   "mimetype": "text/x-python",
   "name": "python",
   "nbconvert_exporter": "python",
   "pygments_lexer": "ipython3",
   "version": "3.10.4"
  }
 },
 "nbformat": 4,
 "nbformat_minor": 5
}
